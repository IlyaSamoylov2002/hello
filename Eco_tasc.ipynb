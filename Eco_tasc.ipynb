{
  "nbformat": 4,
  "nbformat_minor": 0,
  "metadata": {
    "colab": {
      "name": "Untitled3.ipynb",
      "provenance": [],
      "toc_visible": true
    },
    "kernelspec": {
      "name": "python3",
      "display_name": "Python 3"
    },
    "language_info": {
      "name": "python"
    }
  },
  "cells": [
    {
      "cell_type": "code",
      "execution_count": null,
      "metadata": {
        "id": "xqHVp2KFTCVC"
      },
      "outputs": [],
      "source": [
        "print (\"К сожалению не смог вовремя выполнить работу. Очень жаль, что вы их больше не принимаете. \")"
      ]
    }
  ]
}